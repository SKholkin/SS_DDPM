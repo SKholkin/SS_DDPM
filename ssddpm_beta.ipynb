{
 "cells": [
  {
   "cell_type": "markdown",
   "id": "9979bcef",
   "metadata": {},
   "source": [
    "## Beta distribution shit"
   ]
  },
  {
   "cell_type": "code",
   "execution_count": 1,
   "id": "8f462e16",
   "metadata": {},
   "outputs": [],
   "source": [
    "import numpy as np\n",
    "import torch.nn as nn\n",
    "from tqdm.notebook import tqdm\n",
    "\n",
    "device = 'cuda'\n",
    "batch_size = 64"
   ]
  },
  {
   "cell_type": "code",
   "execution_count": 2,
   "id": "88e38517",
   "metadata": {},
   "outputs": [],
   "source": [
    "T = 1000\n",
    "import numpy as np\n",
    "\n",
    "def log_beta_fn(z_1, z_2):\n",
    "    return torch.special.gammaln(z_1) + torch.special.gammaln(z_2) - torch.special.gammaln(z_1 + z_2)\n",
    "\n",
    "def alpha_beta(mu, x_0):\n",
    "    return 1 + mu.reshape([-1, 1, 1, 1]) * x_0, 1 + mu.reshape([-1, 1, 1, 1]) * (1 - x_0)\n",
    "\n",
    "def KL(x_0, x_theta, t):\n",
    "    mu = noising_sch(t).reshape([-1, 1, 1, 1]) \n",
    "    alpha_0, beta_0 = alpha_beta(mu, x_0)\n",
    "    alpha_theta, beta_theta = alpha_beta(mu, x_theta)\n",
    "    kl_div = log_beta_fn(alpha_theta, beta_theta)\n",
    "    kl_div = kl_div - log_beta_fn(alpha_0, beta_0)\n",
    "    kl_div = kl_div + mu * (x_0 - x_theta) * ((torch.special.digamma(alpha_0) - torch.special.digamma(beta_0)))\n",
    "    return kl_div\n",
    "\n",
    "def sufficient_stats(x_t, t):\n",
    "    theta = noising_sch(t).reshape([-1, 1, 1, 1])\n",
    "    \n",
    "    return theta * torch.log(x_t / (1 - x_t))\n",
    "                                                 \n",
    "def noising_sch(t, mode='exp_linear', theta_start=1e4, theta_end = 1e-3):\n",
    "    if mode == 'linear':\n",
    "        theta = theta_end + (T - t) / T * (theta_start - theta_end)\n",
    "    elif mode=='exp_linear':\n",
    "        log10_theta = np.log10(theta_end) + (T - t) / T * (np.log10(theta_start) - np.log10(theta_end))\n",
    "        theta = torch.pow(10, log10_theta)\n",
    "    else:\n",
    "        raise BaseException('Unknown schedule mode')\n",
    "        \n",
    "    return torch.Tensor(theta).to(device)"
   ]
  },
  {
   "cell_type": "markdown",
   "id": "a948a7e9",
   "metadata": {},
   "source": [
    "## Training"
   ]
  },
  {
   "cell_type": "code",
   "execution_count": 3,
   "id": "73baa16c",
   "metadata": {},
   "outputs": [],
   "source": [
    "from tqdm.notebook import tqdm\n",
    "from torch.distributions.beta import Beta\n",
    "import torch\n",
    "import time\n",
    "\n",
    "def sample_t_batch(batch_size):\n",
    "    \n",
    "    cat_dist = torch.distributions.categorical.Categorical(1 / T * torch.ones([T]))\n",
    "    \n",
    "    t_batch = cat_dist.sample([batch_size]).to(device) + 1\n",
    "    \n",
    "    return t_batch\n",
    "\n",
    "def sample_chain(t_batch, x_0):\n",
    "    samples = []\n",
    "    suff_stats = torch.zeros_like(x_0)\n",
    "    t_min = torch.min(t_batch)\n",
    "    helper = torch.Tensor([[t <= s for s in range(T + 1)] for t in t_batch]).to(device)\n",
    "    \n",
    "    for s in range(T, int(t_min), -1):\n",
    "        helper_slice = helper[:, s]\n",
    "        \n",
    "        theta = noising_sch(t_batch)\n",
    "        \n",
    "        alpha, beta = alpha_beta(theta, x_0)\n",
    "        \n",
    "        dist = Beta(alpha, beta)\n",
    "        samples.append(dist.sample())\n",
    "        s_batch = torch.tensor([s], device=device).repeat(batch_size)\n",
    "\n",
    "        suff_stats += helper_slice.reshape([-1, 1, 1, 1]) * sufficient_stats(samples[-1], s_batch)\n",
    "    return samples, suff_stats\n",
    "\n",
    "def train_sample_online(model, opt, dataloader, max_iter=1000):\n",
    "    pbar = tqdm(range(max_iter))\n",
    "    \n",
    "    for i in pbar:\n",
    "        x_0 = next(iter(dataloader))[0].to(device)\n",
    "        t_batch = sample_t_batch(batch_size)\n",
    "        \n",
    "        start = time.time()\n",
    "        \n",
    "        noised_samples, suff_stats = sample_chain(t_batch, x_0)\n",
    "        \n",
    "        end = time.time()\n",
    "        \n",
    "        x_theta = model(suff_stats, t_batch)\n",
    "        \n",
    "        loss = KL(x_0, x_theta, t_batch).mean()\n",
    "        \n",
    "        opt.zero_grad()\n",
    "        loss.backward()\n",
    "        opt.step()\n",
    "        \n",
    "        pbar.set_description(f'Iter {i} Loss: {loss.item()} Time for sample chain {end - start} s')\n",
    "        if (i + 1) % 100 == 0:\n",
    "            torch.save(model.state_dict(), f'beta_ddpm_{i}_iter.pth')\n",
    "\n",
    "\n",
    "def train_generated_dataset(model, opt, dataloader, max_iter=1000):\n",
    "    pbar = tqdm(range(max_iter))\n",
    "    model.train()\n",
    "    \n",
    "    for i in pbar:\n",
    "        x_0, t_batch, suff_stats = next(iter(dataloader))\n",
    "        x_0, t_batch, suff_stats = x_0.to(device), t_batch.to(device), suff_stats.to(device)\n",
    "        \n",
    "        x_theta = model(suff_stats, t_batch)\n",
    "        \n",
    "        loss = KL(x_0, x_theta, t_batch).mean()\n",
    "        \n",
    "        opt.zero_grad()\n",
    "        loss.backward()\n",
    "        opt.step()\n",
    "        \n",
    "        pbar.set_description(f'Iter {i} Loss: {loss.item()}')\n",
    "        if (i + 1) % 1000 == 0:\n",
    "            torch.save(model.state_dict(), f'beta_ddpm_{i}_iter.pth')\n",
    "        \n",
    "def generate(model):\n",
    "    model.eval()\n",
    "    x_t = torch.rand([batch_size, 1, 28, 28]).to(device)\n",
    "    suff_stats = sufficient_stats(x_t, torch.tensor([T], device=device).repeat(batch_size))\n",
    "    for t in tqdm(range(T + 1, 1, -1)):\n",
    "        t_batch = torch.tensor([t], device=device).repeat(batch_size)\n",
    "        x_0 = model(suff_stats, t_batch)\n",
    "        \n",
    "        mu = noising_sch(t_batch)\n",
    "        \n",
    "        alpha, beta = alpha_beta(mu, x_0)\n",
    "        \n",
    "        dist = Beta(alpha, beta)\n",
    "        x_t = dist.sample()\n",
    "        suff_stats += sufficient_stats(x_t, torch.tensor([t - 1], device=device).repeat(batch_size))\n",
    "        \n",
    "    \n",
    "    t_batch = torch.tensor([1], device=device).repeat(batch_size)\n",
    "    x_0 = model(suff_stats, t_batch)\n",
    "    \n",
    "    return x_0"
   ]
  },
  {
   "cell_type": "code",
   "execution_count": 8,
   "id": "9d76d254",
   "metadata": {},
   "outputs": [],
   "source": [
    "torch.set_printoptions(threshold=10000)\n",
    "\n",
    "data_sample = next(iter(dataloader))[0].to(device)\n",
    "\n",
    "t_batch = sample_t_batch(batch_size)\n",
    "samples, suff_stats = sample_chain(t_batch, data_sample)\n",
    "suff_stats;"
   ]
  },
  {
   "cell_type": "code",
   "execution_count": 6,
   "id": "45ca12c4",
   "metadata": {},
   "outputs": [
    {
     "name": "stdout",
     "output_type": "stream",
     "text": [
      "torch.Size([100])\n"
     ]
    }
   ],
   "source": [
    "dist = Beta(0.5 * torch.ones([100]), 0.5 * torch.ones([100]))\n",
    "\n",
    "beta_samples = dist.sample()\n",
    "print(beta_samples.shape)"
   ]
  },
  {
   "cell_type": "markdown",
   "id": "8c43c18f",
   "metadata": {},
   "source": [
    "## Data"
   ]
  },
  {
   "cell_type": "code",
   "execution_count": 4,
   "id": "144e0253",
   "metadata": {},
   "outputs": [
    {
     "data": {
      "image/png": "[encoded data removed]",
      "text/plain": [
       "<Figure size 640x480 with 1 Axes>"
      ]
     },
     "metadata": {},
     "output_type": "display_data"
    }
   ],
   "source": [
    "from torchvision.datasets import MNIST\n",
    "import torchvision.transforms as transforms\n",
    "import torch\n",
    "import torch.nn.functional as F\n",
    "import numpy as np\n",
    "\n",
    "dataset = MNIST(root='MNIST', download=True,transform=transforms.Compose([transforms.ToTensor()]))\n",
    "\n",
    "import matplotlib.pyplot as plt\n",
    "\n",
    "plt.imshow(dataset[0][0].squeeze(), cmap='gray')\n",
    "\n",
    "batch_size = 128\n",
    "dataloader = torch.utils.data.DataLoader(dataset, batch_size=batch_size, shuffle=True)"
   ]
  },
  {
   "cell_type": "code",
   "execution_count": 6,
   "id": "c003a158",
   "metadata": {},
   "outputs": [],
   "source": [
    "class ForwardDiffusionDataset(torch.utils.data.Dataset):\n",
    "    def __init__(self, x_0_tensor, t_batch_tensor, suff_stats_tensor):\n",
    "        super().__init__()\n",
    "        self.x_0_tensor = x_0_tensor\n",
    "        self.t_batch_tensor = t_batch_tensor\n",
    "        self.suff_stats_tensor = suff_stats_tensor\n",
    "        \n",
    "    def __len__(self):\n",
    "        return self.x_0_tensor.shape[0]\n",
    "        \n",
    "    def __getitem__(self, idx):\n",
    "        return self.x_0_tensor[idx], self.t_batch_tensor[idx], self.suff_stats_tensor[idx]\n",
    "    \n",
    "def load_generated_dataset():\n",
    "    x_0_tensor, t_batch_tensor, suff_stats_tensor = torch.load('x_0_dataset.pth'), torch.load('t_batch_dataset.pth'), torch.load('suff_stats_dataset.pth')\n",
    "    return ForwardDiffusionDataset(x_0_tensor, t_batch_tensor, suff_stats_tensor)\n",
    "\n",
    "forward_diffusion_dataset = load_generated_dataset()\n",
    "\n",
    "forward_diffusion_dataloader = torch.utils.data.DataLoader(forward_diffusion_dataset, batch_size=batch_size, shuffle=True)"
   ]
  },
  {
   "cell_type": "markdown",
   "id": "27f8dca4",
   "metadata": {},
   "source": [
    "## Model"
   ]
  },
  {
   "cell_type": "code",
   "execution_count": 7,
   "id": "c57d8b91",
   "metadata": {},
   "outputs": [
    {
     "name": "stdout",
     "output_type": "stream",
     "text": [
      "/mounted/DDPM\n",
      "/mounted/ssddpm\n"
     ]
    }
   ],
   "source": [
    "# steal the model from https://github.com/abarankab/DDPM\n",
    "\n",
    "%cd ../DDPM\n",
    "from ddpm.unet import UNet\n",
    "%cd ../ssddpm"
   ]
  },
  {
   "cell_type": "code",
   "execution_count": 8,
   "id": "620c51ee",
   "metadata": {},
   "outputs": [],
   "source": [
    "import torch.nn.functional as F\n",
    "device = 'cuda'\n",
    "model = UNet(1, 32, (1, 2, 4), time_emb_dim=16)\n",
    "\n",
    "class BetaUnet(nn.Module):\n",
    "    def __init__(self):\n",
    "        super().__init__()\n",
    "        self.model = UNet(1, 32, (1, 2, 4), time_emb_dim=16)\n",
    "\n",
    "    def forward(self, x_t, t):\n",
    "        return F.sigmoid(self.model(x_t, t))\n",
    "\n",
    "model = BetaUnet()\n",
    "model = model.to(device)\n",
    "\n",
    "opt = torch.optim.Adam(model.parameters(), lr=1e-4)"
   ]
  },
  {
   "cell_type": "code",
   "execution_count": 10,
   "id": "4abf647d",
   "metadata": {},
   "outputs": [
    {
     "data": {
      "application/vnd.jupyter.widget-view+json": {
       "model_id": "8faf3c1817c14f4bb8218ec37892f99c",
       "version_major": 2,
       "version_minor": 0
      },
      "text/plain": [
       "  0%|          | 0/10000 [00:00<?, ?it/s]"
      ]
     },
     "metadata": {},
     "output_type": "display_data"
    },
    {
     "ename": "KeyboardInterrupt",
     "evalue": "",
     "output_type": "error",
     "traceback": [
      "\u001b[0;31m---------------------------------------------------------------------------\u001b[0m",
      "\u001b[0;31mKeyboardInterrupt\u001b[0m                         Traceback (most recent call last)",
      "Cell \u001b[0;32mIn[10], line 1\u001b[0m\n\u001b[0;32m----> 1\u001b[0m \u001b[43mtrain_generated_dataset\u001b[49m\u001b[43m(\u001b[49m\u001b[43mmodel\u001b[49m\u001b[43m,\u001b[49m\u001b[43m \u001b[49m\u001b[43mopt\u001b[49m\u001b[43m,\u001b[49m\u001b[43m \u001b[49m\u001b[43mforward_diffusion_dataloader\u001b[49m\u001b[43m,\u001b[49m\u001b[43m \u001b[49m\u001b[43mmax_iter\u001b[49m\u001b[38;5;241;43m=\u001b[39;49m\u001b[38;5;241;43m10000\u001b[39;49m\u001b[43m)\u001b[49m\n",
      "Cell \u001b[0;32mIn[3], line 68\u001b[0m, in \u001b[0;36mtrain_generated_dataset\u001b[0;34m(model, opt, dataloader, max_iter)\u001b[0m\n\u001b[1;32m     65\u001b[0m x_0, t_batch, suff_stats \u001b[38;5;241m=\u001b[39m \u001b[38;5;28mnext\u001b[39m(\u001b[38;5;28miter\u001b[39m(dataloader))\n\u001b[1;32m     66\u001b[0m x_0, t_batch, suff_stats \u001b[38;5;241m=\u001b[39m x_0\u001b[38;5;241m.\u001b[39mto(device), t_batch\u001b[38;5;241m.\u001b[39mto(device), suff_stats\u001b[38;5;241m.\u001b[39mto(device)\n\u001b[0;32m---> 68\u001b[0m x_theta \u001b[38;5;241m=\u001b[39m \u001b[43mmodel\u001b[49m\u001b[43m(\u001b[49m\u001b[43msuff_stats\u001b[49m\u001b[43m,\u001b[49m\u001b[43m \u001b[49m\u001b[43mt_batch\u001b[49m\u001b[43m)\u001b[49m\n\u001b[1;32m     70\u001b[0m loss \u001b[38;5;241m=\u001b[39m KL(x_0, x_theta, t_batch)\u001b[38;5;241m.\u001b[39mmean()\n\u001b[1;32m     72\u001b[0m opt\u001b[38;5;241m.\u001b[39mzero_grad()\n",
      "File \u001b[0;32m/opt/conda/lib/python3.10/site-packages/torch/nn/modules/module.py:1501\u001b[0m, in \u001b[0;36mModule._call_impl\u001b[0;34m(self, *args, **kwargs)\u001b[0m\n\u001b[1;32m   1496\u001b[0m \u001b[38;5;66;03m# If we don't have any hooks, we want to skip the rest of the logic in\u001b[39;00m\n\u001b[1;32m   1497\u001b[0m \u001b[38;5;66;03m# this function, and just call forward.\u001b[39;00m\n\u001b[1;32m   1498\u001b[0m \u001b[38;5;28;01mif\u001b[39;00m \u001b[38;5;129;01mnot\u001b[39;00m (\u001b[38;5;28mself\u001b[39m\u001b[38;5;241m.\u001b[39m_backward_hooks \u001b[38;5;129;01mor\u001b[39;00m \u001b[38;5;28mself\u001b[39m\u001b[38;5;241m.\u001b[39m_backward_pre_hooks \u001b[38;5;129;01mor\u001b[39;00m \u001b[38;5;28mself\u001b[39m\u001b[38;5;241m.\u001b[39m_forward_hooks \u001b[38;5;129;01mor\u001b[39;00m \u001b[38;5;28mself\u001b[39m\u001b[38;5;241m.\u001b[39m_forward_pre_hooks\n\u001b[1;32m   1499\u001b[0m         \u001b[38;5;129;01mor\u001b[39;00m _global_backward_pre_hooks \u001b[38;5;129;01mor\u001b[39;00m _global_backward_hooks\n\u001b[1;32m   1500\u001b[0m         \u001b[38;5;129;01mor\u001b[39;00m _global_forward_hooks \u001b[38;5;129;01mor\u001b[39;00m _global_forward_pre_hooks):\n\u001b[0;32m-> 1501\u001b[0m     \u001b[38;5;28;01mreturn\u001b[39;00m \u001b[43mforward_call\u001b[49m\u001b[43m(\u001b[49m\u001b[38;5;241;43m*\u001b[39;49m\u001b[43margs\u001b[49m\u001b[43m,\u001b[49m\u001b[43m \u001b[49m\u001b[38;5;241;43m*\u001b[39;49m\u001b[38;5;241;43m*\u001b[39;49m\u001b[43mkwargs\u001b[49m\u001b[43m)\u001b[49m\n\u001b[1;32m   1502\u001b[0m \u001b[38;5;66;03m# Do not call functions when jit is used\u001b[39;00m\n\u001b[1;32m   1503\u001b[0m full_backward_hooks, non_full_backward_hooks \u001b[38;5;241m=\u001b[39m [], []\n",
      "Cell \u001b[0;32mIn[8], line 11\u001b[0m, in \u001b[0;36mBetaUnet.forward\u001b[0;34m(self, x_t, t)\u001b[0m\n\u001b[1;32m     10\u001b[0m \u001b[38;5;28;01mdef\u001b[39;00m \u001b[38;5;21mforward\u001b[39m(\u001b[38;5;28mself\u001b[39m, x_t, t):\n\u001b[0;32m---> 11\u001b[0m     \u001b[38;5;28;01mreturn\u001b[39;00m F\u001b[38;5;241m.\u001b[39msigmoid(\u001b[38;5;28;43mself\u001b[39;49m\u001b[38;5;241;43m.\u001b[39;49m\u001b[43mmodel\u001b[49m\u001b[43m(\u001b[49m\u001b[43mx_t\u001b[49m\u001b[43m,\u001b[49m\u001b[43m \u001b[49m\u001b[43mt\u001b[49m\u001b[43m)\u001b[49m)\n",
      "File \u001b[0;32m/opt/conda/lib/python3.10/site-packages/torch/nn/modules/module.py:1501\u001b[0m, in \u001b[0;36mModule._call_impl\u001b[0;34m(self, *args, **kwargs)\u001b[0m\n\u001b[1;32m   1496\u001b[0m \u001b[38;5;66;03m# If we don't have any hooks, we want to skip the rest of the logic in\u001b[39;00m\n\u001b[1;32m   1497\u001b[0m \u001b[38;5;66;03m# this function, and just call forward.\u001b[39;00m\n\u001b[1;32m   1498\u001b[0m \u001b[38;5;28;01mif\u001b[39;00m \u001b[38;5;129;01mnot\u001b[39;00m (\u001b[38;5;28mself\u001b[39m\u001b[38;5;241m.\u001b[39m_backward_hooks \u001b[38;5;129;01mor\u001b[39;00m \u001b[38;5;28mself\u001b[39m\u001b[38;5;241m.\u001b[39m_backward_pre_hooks \u001b[38;5;129;01mor\u001b[39;00m \u001b[38;5;28mself\u001b[39m\u001b[38;5;241m.\u001b[39m_forward_hooks \u001b[38;5;129;01mor\u001b[39;00m \u001b[38;5;28mself\u001b[39m\u001b[38;5;241m.\u001b[39m_forward_pre_hooks\n\u001b[1;32m   1499\u001b[0m         \u001b[38;5;129;01mor\u001b[39;00m _global_backward_pre_hooks \u001b[38;5;129;01mor\u001b[39;00m _global_backward_hooks\n\u001b[1;32m   1500\u001b[0m         \u001b[38;5;129;01mor\u001b[39;00m _global_forward_hooks \u001b[38;5;129;01mor\u001b[39;00m _global_forward_pre_hooks):\n\u001b[0;32m-> 1501\u001b[0m     \u001b[38;5;28;01mreturn\u001b[39;00m \u001b[43mforward_call\u001b[49m\u001b[43m(\u001b[49m\u001b[38;5;241;43m*\u001b[39;49m\u001b[43margs\u001b[49m\u001b[43m,\u001b[49m\u001b[43m \u001b[49m\u001b[38;5;241;43m*\u001b[39;49m\u001b[38;5;241;43m*\u001b[39;49m\u001b[43mkwargs\u001b[49m\u001b[43m)\u001b[49m\n\u001b[1;32m   1502\u001b[0m \u001b[38;5;66;03m# Do not call functions when jit is used\u001b[39;00m\n\u001b[1;32m   1503\u001b[0m full_backward_hooks, non_full_backward_hooks \u001b[38;5;241m=\u001b[39m [], []\n",
      "File \u001b[0;32m/mounted/DDPM/ddpm/unet.py:378\u001b[0m, in \u001b[0;36mUNet.forward\u001b[0;34m(self, x, time, y)\u001b[0m\n\u001b[1;32m    376\u001b[0m     \u001b[38;5;28;01mif\u001b[39;00m \u001b[38;5;28misinstance\u001b[39m(layer, ResidualBlock):\n\u001b[1;32m    377\u001b[0m         x \u001b[38;5;241m=\u001b[39m torch\u001b[38;5;241m.\u001b[39mcat([x, skips\u001b[38;5;241m.\u001b[39mpop()], dim\u001b[38;5;241m=\u001b[39m\u001b[38;5;241m1\u001b[39m)\n\u001b[0;32m--> 378\u001b[0m     x \u001b[38;5;241m=\u001b[39m \u001b[43mlayer\u001b[49m\u001b[43m(\u001b[49m\u001b[43mx\u001b[49m\u001b[43m,\u001b[49m\u001b[43m \u001b[49m\u001b[43mtime_emb\u001b[49m\u001b[43m,\u001b[49m\u001b[43m \u001b[49m\u001b[43my\u001b[49m\u001b[43m)\u001b[49m\n\u001b[1;32m    380\u001b[0m x \u001b[38;5;241m=\u001b[39m \u001b[38;5;28mself\u001b[39m\u001b[38;5;241m.\u001b[39mactivation(\u001b[38;5;28mself\u001b[39m\u001b[38;5;241m.\u001b[39mout_norm(x))\n\u001b[1;32m    381\u001b[0m x \u001b[38;5;241m=\u001b[39m \u001b[38;5;28mself\u001b[39m\u001b[38;5;241m.\u001b[39mout_conv(x)\n",
      "File \u001b[0;32m/opt/conda/lib/python3.10/site-packages/torch/nn/modules/module.py:1501\u001b[0m, in \u001b[0;36mModule._call_impl\u001b[0;34m(self, *args, **kwargs)\u001b[0m\n\u001b[1;32m   1496\u001b[0m \u001b[38;5;66;03m# If we don't have any hooks, we want to skip the rest of the logic in\u001b[39;00m\n\u001b[1;32m   1497\u001b[0m \u001b[38;5;66;03m# this function, and just call forward.\u001b[39;00m\n\u001b[1;32m   1498\u001b[0m \u001b[38;5;28;01mif\u001b[39;00m \u001b[38;5;129;01mnot\u001b[39;00m (\u001b[38;5;28mself\u001b[39m\u001b[38;5;241m.\u001b[39m_backward_hooks \u001b[38;5;129;01mor\u001b[39;00m \u001b[38;5;28mself\u001b[39m\u001b[38;5;241m.\u001b[39m_backward_pre_hooks \u001b[38;5;129;01mor\u001b[39;00m \u001b[38;5;28mself\u001b[39m\u001b[38;5;241m.\u001b[39m_forward_hooks \u001b[38;5;129;01mor\u001b[39;00m \u001b[38;5;28mself\u001b[39m\u001b[38;5;241m.\u001b[39m_forward_pre_hooks\n\u001b[1;32m   1499\u001b[0m         \u001b[38;5;129;01mor\u001b[39;00m _global_backward_pre_hooks \u001b[38;5;129;01mor\u001b[39;00m _global_backward_hooks\n\u001b[1;32m   1500\u001b[0m         \u001b[38;5;129;01mor\u001b[39;00m _global_forward_hooks \u001b[38;5;129;01mor\u001b[39;00m _global_forward_pre_hooks):\n\u001b[0;32m-> 1501\u001b[0m     \u001b[38;5;28;01mreturn\u001b[39;00m \u001b[43mforward_call\u001b[49m\u001b[43m(\u001b[49m\u001b[38;5;241;43m*\u001b[39;49m\u001b[43margs\u001b[49m\u001b[43m,\u001b[49m\u001b[43m \u001b[49m\u001b[38;5;241;43m*\u001b[39;49m\u001b[38;5;241;43m*\u001b[39;49m\u001b[43mkwargs\u001b[49m\u001b[43m)\u001b[49m\n\u001b[1;32m   1502\u001b[0m \u001b[38;5;66;03m# Do not call functions when jit is used\u001b[39;00m\n\u001b[1;32m   1503\u001b[0m full_backward_hooks, non_full_backward_hooks \u001b[38;5;241m=\u001b[39m [], []\n",
      "File \u001b[0;32m/mounted/DDPM/ddpm/unet.py:208\u001b[0m, in \u001b[0;36mResidualBlock.forward\u001b[0;34m(self, x, time_emb, y)\u001b[0m\n\u001b[1;32m    205\u001b[0m     out \u001b[38;5;241m+\u001b[39m\u001b[38;5;241m=\u001b[39m \u001b[38;5;28mself\u001b[39m\u001b[38;5;241m.\u001b[39mclass_bias(y)[:, :, \u001b[38;5;28;01mNone\u001b[39;00m, \u001b[38;5;28;01mNone\u001b[39;00m]\n\u001b[1;32m    207\u001b[0m out \u001b[38;5;241m=\u001b[39m \u001b[38;5;28mself\u001b[39m\u001b[38;5;241m.\u001b[39mactivation(\u001b[38;5;28mself\u001b[39m\u001b[38;5;241m.\u001b[39mnorm_2(out))\n\u001b[0;32m--> 208\u001b[0m out \u001b[38;5;241m=\u001b[39m \u001b[38;5;28mself\u001b[39m\u001b[38;5;241m.\u001b[39mconv_2(out) \u001b[38;5;241m+\u001b[39m \u001b[38;5;28;43mself\u001b[39;49m\u001b[38;5;241;43m.\u001b[39;49m\u001b[43mresidual_connection\u001b[49m\u001b[43m(\u001b[49m\u001b[43mx\u001b[49m\u001b[43m)\u001b[49m\n\u001b[1;32m    209\u001b[0m out \u001b[38;5;241m=\u001b[39m \u001b[38;5;28mself\u001b[39m\u001b[38;5;241m.\u001b[39mattention(out)\n\u001b[1;32m    211\u001b[0m \u001b[38;5;28;01mreturn\u001b[39;00m out\n",
      "File \u001b[0;32m/opt/conda/lib/python3.10/site-packages/torch/nn/modules/module.py:1501\u001b[0m, in \u001b[0;36mModule._call_impl\u001b[0;34m(self, *args, **kwargs)\u001b[0m\n\u001b[1;32m   1496\u001b[0m \u001b[38;5;66;03m# If we don't have any hooks, we want to skip the rest of the logic in\u001b[39;00m\n\u001b[1;32m   1497\u001b[0m \u001b[38;5;66;03m# this function, and just call forward.\u001b[39;00m\n\u001b[1;32m   1498\u001b[0m \u001b[38;5;28;01mif\u001b[39;00m \u001b[38;5;129;01mnot\u001b[39;00m (\u001b[38;5;28mself\u001b[39m\u001b[38;5;241m.\u001b[39m_backward_hooks \u001b[38;5;129;01mor\u001b[39;00m \u001b[38;5;28mself\u001b[39m\u001b[38;5;241m.\u001b[39m_backward_pre_hooks \u001b[38;5;129;01mor\u001b[39;00m \u001b[38;5;28mself\u001b[39m\u001b[38;5;241m.\u001b[39m_forward_hooks \u001b[38;5;129;01mor\u001b[39;00m \u001b[38;5;28mself\u001b[39m\u001b[38;5;241m.\u001b[39m_forward_pre_hooks\n\u001b[1;32m   1499\u001b[0m         \u001b[38;5;129;01mor\u001b[39;00m _global_backward_pre_hooks \u001b[38;5;129;01mor\u001b[39;00m _global_backward_hooks\n\u001b[1;32m   1500\u001b[0m         \u001b[38;5;129;01mor\u001b[39;00m _global_forward_hooks \u001b[38;5;129;01mor\u001b[39;00m _global_forward_pre_hooks):\n\u001b[0;32m-> 1501\u001b[0m     \u001b[38;5;28;01mreturn\u001b[39;00m \u001b[43mforward_call\u001b[49m\u001b[43m(\u001b[49m\u001b[38;5;241;43m*\u001b[39;49m\u001b[43margs\u001b[49m\u001b[43m,\u001b[49m\u001b[43m \u001b[49m\u001b[38;5;241;43m*\u001b[39;49m\u001b[38;5;241;43m*\u001b[39;49m\u001b[43mkwargs\u001b[49m\u001b[43m)\u001b[49m\n\u001b[1;32m   1502\u001b[0m \u001b[38;5;66;03m# Do not call functions when jit is used\u001b[39;00m\n\u001b[1;32m   1503\u001b[0m full_backward_hooks, non_full_backward_hooks \u001b[38;5;241m=\u001b[39m [], []\n",
      "File \u001b[0;32m/opt/conda/lib/python3.10/site-packages/torch/nn/modules/conv.py:463\u001b[0m, in \u001b[0;36mConv2d.forward\u001b[0;34m(self, input)\u001b[0m\n\u001b[1;32m    462\u001b[0m \u001b[38;5;28;01mdef\u001b[39;00m \u001b[38;5;21mforward\u001b[39m(\u001b[38;5;28mself\u001b[39m, \u001b[38;5;28minput\u001b[39m: Tensor) \u001b[38;5;241m-\u001b[39m\u001b[38;5;241m>\u001b[39m Tensor:\n\u001b[0;32m--> 463\u001b[0m     \u001b[38;5;28;01mreturn\u001b[39;00m \u001b[38;5;28;43mself\u001b[39;49m\u001b[38;5;241;43m.\u001b[39;49m\u001b[43m_conv_forward\u001b[49m\u001b[43m(\u001b[49m\u001b[38;5;28;43minput\u001b[39;49m\u001b[43m,\u001b[49m\u001b[43m \u001b[49m\u001b[38;5;28;43mself\u001b[39;49m\u001b[38;5;241;43m.\u001b[39;49m\u001b[43mweight\u001b[49m\u001b[43m,\u001b[49m\u001b[43m \u001b[49m\u001b[38;5;28;43mself\u001b[39;49m\u001b[38;5;241;43m.\u001b[39;49m\u001b[43mbias\u001b[49m\u001b[43m)\u001b[49m\n",
      "File \u001b[0;32m/opt/conda/lib/python3.10/site-packages/torch/nn/modules/conv.py:454\u001b[0m, in \u001b[0;36mConv2d._conv_forward\u001b[0;34m(self, input, weight, bias)\u001b[0m\n\u001b[1;32m    449\u001b[0m     dilation_ \u001b[38;5;241m=\u001b[39m _pair(dilation)\n\u001b[1;32m    450\u001b[0m     \u001b[38;5;28msuper\u001b[39m()\u001b[38;5;241m.\u001b[39m\u001b[38;5;21m__init__\u001b[39m(\n\u001b[1;32m    451\u001b[0m         in_channels, out_channels, kernel_size_, stride_, padding_, dilation_,\n\u001b[1;32m    452\u001b[0m         \u001b[38;5;28;01mFalse\u001b[39;00m, _pair(\u001b[38;5;241m0\u001b[39m), groups, bias, padding_mode, \u001b[38;5;241m*\u001b[39m\u001b[38;5;241m*\u001b[39mfactory_kwargs)\n\u001b[0;32m--> 454\u001b[0m \u001b[38;5;28;01mdef\u001b[39;00m \u001b[38;5;21m_conv_forward\u001b[39m(\u001b[38;5;28mself\u001b[39m, \u001b[38;5;28minput\u001b[39m: Tensor, weight: Tensor, bias: Optional[Tensor]):\n\u001b[1;32m    455\u001b[0m     \u001b[38;5;28;01mif\u001b[39;00m \u001b[38;5;28mself\u001b[39m\u001b[38;5;241m.\u001b[39mpadding_mode \u001b[38;5;241m!=\u001b[39m \u001b[38;5;124m'\u001b[39m\u001b[38;5;124mzeros\u001b[39m\u001b[38;5;124m'\u001b[39m:\n\u001b[1;32m    456\u001b[0m         \u001b[38;5;28;01mreturn\u001b[39;00m F\u001b[38;5;241m.\u001b[39mconv2d(F\u001b[38;5;241m.\u001b[39mpad(\u001b[38;5;28minput\u001b[39m, \u001b[38;5;28mself\u001b[39m\u001b[38;5;241m.\u001b[39m_reversed_padding_repeated_twice, mode\u001b[38;5;241m=\u001b[39m\u001b[38;5;28mself\u001b[39m\u001b[38;5;241m.\u001b[39mpadding_mode),\n\u001b[1;32m    457\u001b[0m                         weight, bias, \u001b[38;5;28mself\u001b[39m\u001b[38;5;241m.\u001b[39mstride,\n\u001b[1;32m    458\u001b[0m                         _pair(\u001b[38;5;241m0\u001b[39m), \u001b[38;5;28mself\u001b[39m\u001b[38;5;241m.\u001b[39mdilation, \u001b[38;5;28mself\u001b[39m\u001b[38;5;241m.\u001b[39mgroups)\n",
      "\u001b[0;31mKeyboardInterrupt\u001b[0m: "
     ]
    }
   ],
   "source": [
    "\n",
    "train_generated_dataset(model, opt, forward_diffusion_dataloader, max_iter=10000)"
   ]
  },
  {
   "cell_type": "code",
   "execution_count": 12,
   "id": "a196bc94",
   "metadata": {},
   "outputs": [
    {
     "data": {
      "application/vnd.jupyter.widget-view+json": {
       "model_id": "ecae30412e764ac5a3b8ba965287462d",
       "version_major": 2,
       "version_minor": 0
      },
      "text/plain": [
       "  0%|          | 0/1000 [00:00<?, ?it/s]"
      ]
     },
     "metadata": {},
     "output_type": "display_data"
    },
    {
     "data": {
      "text/plain": [
       "<matplotlib.image.AxesImage at 0x7f452be35cc0>"
      ]
     },
     "execution_count": 12,
     "metadata": {},
     "output_type": "execute_result"
    },
    {
     "data": {
      "image/png": "[encoded data removed]",
      "text/plain": [
       "<Figure size 1000x1000 with 4 Axes>"
      ]
     },
     "metadata": {},
     "output_type": "display_data"
    }
   ],
   "source": [
    "samples = generate(model)\n",
    "\n",
    "import matplotlib.pyplot as plt\n",
    "fig, axes = plt.subplots(2, 2, figsize=(10, 10))\n",
    "\n",
    "axes[0][0].imshow(samples[0].detach().cpu().numpy().squeeze(), cmap='gray')\n",
    "axes[0][1].imshow(samples[1].detach().cpu().numpy().squeeze(), cmap='gray')\n",
    "axes[1][0].imshow(samples[2].detach().cpu().numpy().squeeze(), cmap='gray')\n",
    "axes[1][1].imshow(samples[3].detach().cpu().numpy().squeeze(), cmap='gray')"
   ]
  },
  {
   "cell_type": "code",
   "execution_count": null,
   "id": "034b14ae",
   "metadata": {},
   "outputs": [],
   "source": []
  }
 ],
 "metadata": {
  "kernelspec": {
   "display_name": "Python 3 (ipykernel)",
   "language": "python",
   "name": "python3"
  },
  "language_info": {
   "codemirror_mode": {
    "name": "ipython",
    "version": 3
   },
   "file_extension": ".py",
   "mimetype": "text/x-python",
   "name": "python",
   "nbconvert_exporter": "python",
   "pygments_lexer": "ipython3",
   "version": "3.10.10"
  }
 },
 "nbformat": 4,
 "nbformat_minor": 5
}
